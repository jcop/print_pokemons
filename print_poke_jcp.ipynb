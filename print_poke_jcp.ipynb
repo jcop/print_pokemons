{
 "cells": [
  {
   "cell_type": "code",
   "execution_count": null,
   "metadata": {
    "collapsed": true
   },
   "outputs": [],
   "source": [
    "# Print pokemons\n",
    "\n",
    "api: https://github.com/rubenvereecken/pokemongo-api"
   ]
  },
  {
   "cell_type": "code",
   "execution_count": null,
   "metadata": {
    "collapsed": true
   },
   "outputs": [],
   "source": [
    "import print_pokemons as pp\n",
    "from pogo.pokedex import pokedex"
   ]
  },
  {
   "cell_type": "code",
   "execution_count": null,
   "metadata": {
    "collapsed": false
   },
   "outputs": [],
   "source": [
    "username, password, auth_type = pp.get_credentials_from_keyfile('keyfile')\n",
    "print(username)"
   ]
  },
  {
   "cell_type": "code",
   "execution_count": null,
   "metadata": {
    "collapsed": false
   },
   "outputs": [],
   "source": [
    "#username, password, auth_type = pp.get_credentials_from_keyfile('keyfile.cat')\n",
    "print(username)"
   ]
  },
  {
   "cell_type": "code",
   "execution_count": null,
   "metadata": {
    "collapsed": false
   },
   "outputs": [],
   "source": [
    "trainer = pp.get_trainer(username, password, auth_type)"
   ]
  },
  {
   "cell_type": "code",
   "execution_count": null,
   "metadata": {
    "collapsed": false
   },
   "outputs": [],
   "source": [
    "inventory = trainer.session.getInventory()\n",
    "bag = pp.get_pokemons(trainer)"
   ]
  },
  {
   "cell_type": "code",
   "execution_count": null,
   "metadata": {
    "collapsed": false
   },
   "outputs": [],
   "source": [
    "pp.print_pokemons_by_iv(bag)"
   ]
  },
  {
   "cell_type": "code",
   "execution_count": null,
   "metadata": {
    "collapsed": false
   },
   "outputs": [],
   "source": [
    "pp.print_pokemons_by_number(bag)"
   ]
  },
  {
   "cell_type": "code",
   "execution_count": null,
   "metadata": {
    "collapsed": false
   },
   "outputs": [],
   "source": [
    "pp.print_pokemons_by_cp(bag)"
   ]
  },
  {
   "cell_type": "code",
   "execution_count": null,
   "metadata": {
    "collapsed": false
   },
   "outputs": [],
   "source": [
    "def print_pokemons_by_number(lst):\n",
    "    lst.sort(key=lambda x: (x['id'],x['%'], x['cp']))\n",
    "\n",
    "    sep = '-'*(110)\n",
    "    print('{:>3} | {:>15} | {:>4} | {:>4} | {:>8} | {:>8} | {:>8} | {:>8} | {:>8} | {:>8} | {}'.format(\n",
    "        'id', 'name', 'cp', 'hp', 'attack', 'defense', 'stamina', '%', 'candies', 'n_evolves', 'family'))\n",
    "    print(sep)\n",
    "\n",
    "    curr_family = ''\n",
    "    counter = 0\n",
    "\n",
    "    for (i, p) in enumerate(lst, start=1):\n",
    "        if not curr_family:\n",
    "            curr_family=p['family']\n",
    "\n",
    "        if p['family'] != curr_family:\n",
    "            curr_family=p['family']\n",
    "            print('')\n",
    "\n",
    "        print('{id:>3} | {name:>15} | {cp:>4} | {hp:>4} | {attack:>8} | {defense:>8} | {stamina:>8} | {%:>8.3f} | {candies:>8} | {n_evolves:>8} | {family}'.format(**p))\n",
    "\n",
    "    print('Sub total: {}'.format(counter))\n",
    "    print('Pokemons Total: {}'.format(len(lst)))\n",
    "    "
   ]
  },
  {
   "cell_type": "code",
   "execution_count": null,
   "metadata": {
    "collapsed": false
   },
   "outputs": [],
   "source": [
    "print_pokemons_by_number( bag )"
   ]
  },
  {
   "cell_type": "markdown",
   "metadata": {},
   "source": [
    "## Count pokemons and possible evolves"
   ]
  },
  {
   "cell_type": "code",
   "execution_count": null,
   "metadata": {
    "collapsed": false
   },
   "outputs": [],
   "source": [
    "from collections import Counter\n",
    "\n",
    "def print_most_common(bag, limit=None):\n",
    "    counter = Counter([(x['name'], x['id']) for x in bag if pokedex.evolves.get(x['id'], 0) > 0])\n",
    "\n",
    "    \n",
    "    print('{:>15} | {:>5} | {:>7} | {:>7} | {:>8} | {}'.format('Name', 'Need', 'Candies', 'NumHave', 'Can Evo.', 'Curr. Evo.'))\n",
    "    print('-'*70)\n",
    "\n",
    "    total_possible = 0\n",
    "    total_current = 0\n",
    "    \n",
    "    total_trio_possible = 0\n",
    "    total_trio_current = 0\n",
    "    \n",
    "    if limit is None:\n",
    "        most_common = sorted(counter.most_common())\n",
    "    else:\n",
    "        most_common = sorted(counter.most_common(limit))\n",
    "\n",
    "    for item, count in most_common:\n",
    "        family = pokedex.families[item[1]]\n",
    "\n",
    "        n_candies = inventory.candies.get(item[1], 0)\n",
    "        need = pokedex.evolves.get(item[1], 0)\n",
    "\n",
    "        possible = int(n_candies / need)\n",
    "        curr = min(possible, count)\n",
    "        \n",
    "        if possible == 0:\n",
    "            continue\n",
    "        print('{:>15} | {:>5} | {:>7} | {:>7} | {:>8} | {}'.format(item[0], need, n_candies, count, possible, curr))\n",
    "\n",
    "        total_possible += possible\n",
    "        total_current += curr\n",
    "        \n",
    "        if ( item[0] == 'CATERPIE' or item[0] == 'PIDGEY' or item[0] == 'WEEDLE'):\n",
    "            total_trio_possible += possible\n",
    "            total_trio_current += curr\n",
    "\n",
    "    print('\\nTotal possible evolutions: {}'.format(total_possible))\n",
    "    print('Current total evolutions: {}'.format(total_current))\n",
    "    \n",
    "    print('\\nTotal TRIO possible evolutions: {}'.format(total_trio_possible))\n",
    "    print('Current TRIO total evolutions: {}'.format(total_trio_current))\n",
    "    "
   ]
  },
  {
   "cell_type": "code",
   "execution_count": null,
   "metadata": {
    "collapsed": false
   },
   "outputs": [],
   "source": [
    "print_most_common(bag)"
   ]
  },
  {
   "cell_type": "code",
   "execution_count": null,
   "metadata": {
    "collapsed": false
   },
   "outputs": [],
   "source": [
    "from collections import Counter\n",
    "\n",
    "def print_pokemons_by_number_totals(lst):\n",
    "    lst.sort(key=lambda x: (x['id'],x['%'], x['cp']))\n",
    "\n",
    "    counter = Counter([(x['name'], x['id']) for x in bag if pokedex.evolves.get(x['id'], 0) > 0])\n",
    "\n",
    "    most_common = sorted(counter.most_common())\n",
    "   # print(lst)\n",
    "\n",
    "    for (i, p) in enumerate(lst, start=1):\n",
    "        if 'num_have' in p:\n",
    "            continue\n",
    "            \n",
    "        for item, count in most_common:\n",
    "            if item[0] == p['name']:\n",
    "                p['num_have'] = count\n",
    "                break\n",
    "                \n",
    "        if 'num_have' not in p:\n",
    "            p['num_have'] = 0\n",
    "                \n",
    "        \n",
    "    sep = '-'*(110)\n",
    "    print('{:>3} | {:>15} | {:>4} | {:>8} | {:>8} | {:>5} |{:>5} |  {}'.format(\n",
    "        'id', 'name', 'cp', '%', 'candies', 'can_ev','have', 'family'))\n",
    "    print(sep)\n",
    "\n",
    "    curr_family = ''\n",
    "    counter = 0\n",
    "\n",
    "    for (i, p) in enumerate(lst, start=1):\n",
    "        if not curr_family:\n",
    "            curr_family=p['family']\n",
    "\n",
    "        if p['family'] != curr_family:\n",
    "            curr_family=p['family']\n",
    "            print('')\n",
    "\n",
    "        print('{id:>3} | {name:>15} | {cp:>4} | {%:>8.3f} | {candies:>8} | {n_evolves:>5} |{num_have:>5} | {family}'.format(**p))\n",
    "\n",
    "    print('Sub total: {}'.format(counter))\n",
    "    print('Pokemons Total: {}'.format(len(lst)))\n",
    "    "
   ]
  },
  {
   "cell_type": "code",
   "execution_count": null,
   "metadata": {
    "collapsed": false
   },
   "outputs": [],
   "source": [
    "inventory = trainer.session.getInventory()\n",
    "bag = pp.get_pokemons(trainer)\n",
    "print_pokemons_by_number_totals(bag)"
   ]
  },
  {
   "cell_type": "code",
   "execution_count": null,
   "metadata": {
    "collapsed": true
   },
   "outputs": [],
   "source": []
  }
 ],
 "metadata": {
  "kernelspec": {
   "display_name": "Python 3",
   "language": "python",
   "name": "python3"
  },
  "language_info": {
   "codemirror_mode": {
    "name": "ipython",
    "version": 3
   },
   "file_extension": ".py",
   "mimetype": "text/x-python",
   "name": "python",
   "nbconvert_exporter": "python",
   "pygments_lexer": "ipython3",
   "version": "3.5.2"
  }
 },
 "nbformat": 4,
 "nbformat_minor": 0
}
